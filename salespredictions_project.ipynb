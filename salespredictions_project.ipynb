{
  "nbformat": 4,
  "nbformat_minor": 0,
  "metadata": {
    "colab": {
      "name": "salespredictions-project.ipynb",
      "provenance": [],
      "authorship_tag": "ABX9TyNNteHtvY5+MffB43NLbiR+",
      "include_colab_link": true
    },
    "kernelspec": {
      "name": "python3",
      "display_name": "Python 3"
    },
    "language_info": {
      "name": "python"
    }
  },
  "cells": [
    {
      "cell_type": "markdown",
      "metadata": {
        "id": "view-in-github",
        "colab_type": "text"
      },
      "source": [
        "<a href=\"https://colab.research.google.com/github/tibebu-sime/sales-predictions/blob/main/salespredictions_project.ipynb\" target=\"_parent\"><img src=\"https://colab.research.google.com/assets/colab-badge.svg\" alt=\"Open In Colab\"/></a>"
      ]
    },
    {
      "cell_type": "code",
      "metadata": {
        "colab": {
          "base_uri": "https://localhost:8080/"
        },
        "id": "4pMUrlH5UDrK",
        "outputId": "50ddeb1c-dae8-43a2-9219-69eb19790b3d"
      },
      "source": [
        "from google.colab import drive\n",
        "drive.mount('/content/drive')\n"
      ],
      "execution_count": 1,
      "outputs": [
        {
          "output_type": "stream",
          "text": [
            "Mounted at /content/drive\n"
          ],
          "name": "stdout"
        }
      ]
    },
    {
      "cell_type": "code",
      "metadata": {
        "id": "u7V052RVURcZ"
      },
      "source": [
        "import pandas as pd\n",
        "import numpy as np\n",
        "import seaborn as sns\n",
        "import matplotlib.pyplot as plt\n",
        "from sklearn.impute import SimpleImputer\n"
      ],
      "execution_count": 20,
      "outputs": []
    },
    {
      "cell_type": "code",
      "metadata": {
        "id": "_XMiFSuUUTl5",
        "colab": {
          "base_uri": "https://localhost:8080/",
          "height": 309
        },
        "outputId": "21636ed8-9ecb-4c8e-c6bb-e5d524c7234e"
      },
      "source": [
        "filename = '/content/drive/MyDrive/CodingDojo/Week2_PandasforDataManipulation/Exercises_and_Homework/sales_predictions.csv'\n",
        "sales_data = pd.read_csv(filename)\n",
        "sales_data.head()"
      ],
      "execution_count": 3,
      "outputs": [
        {
          "output_type": "execute_result",
          "data": {
            "text/html": [
              "<div>\n",
              "<style scoped>\n",
              "    .dataframe tbody tr th:only-of-type {\n",
              "        vertical-align: middle;\n",
              "    }\n",
              "\n",
              "    .dataframe tbody tr th {\n",
              "        vertical-align: top;\n",
              "    }\n",
              "\n",
              "    .dataframe thead th {\n",
              "        text-align: right;\n",
              "    }\n",
              "</style>\n",
              "<table border=\"1\" class=\"dataframe\">\n",
              "  <thead>\n",
              "    <tr style=\"text-align: right;\">\n",
              "      <th></th>\n",
              "      <th>Item_Identifier</th>\n",
              "      <th>Item_Weight</th>\n",
              "      <th>Item_Fat_Content</th>\n",
              "      <th>Item_Visibility</th>\n",
              "      <th>Item_Type</th>\n",
              "      <th>Item_MRP</th>\n",
              "      <th>Outlet_Identifier</th>\n",
              "      <th>Outlet_Establishment_Year</th>\n",
              "      <th>Outlet_Size</th>\n",
              "      <th>Outlet_Location_Type</th>\n",
              "      <th>Outlet_Type</th>\n",
              "      <th>Item_Outlet_Sales</th>\n",
              "    </tr>\n",
              "  </thead>\n",
              "  <tbody>\n",
              "    <tr>\n",
              "      <th>0</th>\n",
              "      <td>FDA15</td>\n",
              "      <td>9.30</td>\n",
              "      <td>Low Fat</td>\n",
              "      <td>0.016047</td>\n",
              "      <td>Dairy</td>\n",
              "      <td>249.8092</td>\n",
              "      <td>OUT049</td>\n",
              "      <td>1999</td>\n",
              "      <td>Medium</td>\n",
              "      <td>Tier 1</td>\n",
              "      <td>Supermarket Type1</td>\n",
              "      <td>3735.1380</td>\n",
              "    </tr>\n",
              "    <tr>\n",
              "      <th>1</th>\n",
              "      <td>DRC01</td>\n",
              "      <td>5.92</td>\n",
              "      <td>Regular</td>\n",
              "      <td>0.019278</td>\n",
              "      <td>Soft Drinks</td>\n",
              "      <td>48.2692</td>\n",
              "      <td>OUT018</td>\n",
              "      <td>2009</td>\n",
              "      <td>Medium</td>\n",
              "      <td>Tier 3</td>\n",
              "      <td>Supermarket Type2</td>\n",
              "      <td>443.4228</td>\n",
              "    </tr>\n",
              "    <tr>\n",
              "      <th>2</th>\n",
              "      <td>FDN15</td>\n",
              "      <td>17.50</td>\n",
              "      <td>Low Fat</td>\n",
              "      <td>0.016760</td>\n",
              "      <td>Meat</td>\n",
              "      <td>141.6180</td>\n",
              "      <td>OUT049</td>\n",
              "      <td>1999</td>\n",
              "      <td>Medium</td>\n",
              "      <td>Tier 1</td>\n",
              "      <td>Supermarket Type1</td>\n",
              "      <td>2097.2700</td>\n",
              "    </tr>\n",
              "    <tr>\n",
              "      <th>3</th>\n",
              "      <td>FDX07</td>\n",
              "      <td>19.20</td>\n",
              "      <td>Regular</td>\n",
              "      <td>0.000000</td>\n",
              "      <td>Fruits and Vegetables</td>\n",
              "      <td>182.0950</td>\n",
              "      <td>OUT010</td>\n",
              "      <td>1998</td>\n",
              "      <td>NaN</td>\n",
              "      <td>Tier 3</td>\n",
              "      <td>Grocery Store</td>\n",
              "      <td>732.3800</td>\n",
              "    </tr>\n",
              "    <tr>\n",
              "      <th>4</th>\n",
              "      <td>NCD19</td>\n",
              "      <td>8.93</td>\n",
              "      <td>Low Fat</td>\n",
              "      <td>0.000000</td>\n",
              "      <td>Household</td>\n",
              "      <td>53.8614</td>\n",
              "      <td>OUT013</td>\n",
              "      <td>1987</td>\n",
              "      <td>High</td>\n",
              "      <td>Tier 3</td>\n",
              "      <td>Supermarket Type1</td>\n",
              "      <td>994.7052</td>\n",
              "    </tr>\n",
              "  </tbody>\n",
              "</table>\n",
              "</div>"
            ],
            "text/plain": [
              "  Item_Identifier  Item_Weight  ...        Outlet_Type  Item_Outlet_Sales\n",
              "0           FDA15         9.30  ...  Supermarket Type1          3735.1380\n",
              "1           DRC01         5.92  ...  Supermarket Type2           443.4228\n",
              "2           FDN15        17.50  ...  Supermarket Type1          2097.2700\n",
              "3           FDX07        19.20  ...      Grocery Store           732.3800\n",
              "4           NCD19         8.93  ...  Supermarket Type1           994.7052\n",
              "\n",
              "[5 rows x 12 columns]"
            ]
          },
          "metadata": {
            "tags": []
          },
          "execution_count": 3
        }
      ]
    },
    {
      "cell_type": "code",
      "metadata": {
        "id": "TGEuzudkVWVv"
      },
      "source": [
        "sales_data.info()"
      ],
      "execution_count": null,
      "outputs": []
    },
    {
      "cell_type": "code",
      "metadata": {
        "colab": {
          "base_uri": "https://localhost:8080/"
        },
        "id": "kFE6cHGEpT4h",
        "outputId": "7bb441a6-cf5e-4fc0-8ad9-8753d6aabb55"
      },
      "source": [
        "#Method 2: Check and detect the presence of missing values using the isnull() function\n",
        "sales_data.isnull().sum()"
      ],
      "execution_count": null,
      "outputs": [
        {
          "output_type": "execute_result",
          "data": {
            "text/plain": [
              "Item_Identifier                 0\n",
              "Item_Weight                  1463\n",
              "Item_Fat_Content                0\n",
              "Item_Visibility                 0\n",
              "Item_Type                       0\n",
              "Item_MRP                        0\n",
              "Outlet_Identifier               0\n",
              "Outlet_Establishment_Year       0\n",
              "Outlet_Size                  2410\n",
              "Outlet_Location_Type            0\n",
              "Outlet_Type                     0\n",
              "Item_Outlet_Sales               0\n",
              "dtype: int64"
            ]
          },
          "metadata": {
            "tags": []
          },
          "execution_count": 6
        }
      ]
    },
    {
      "cell_type": "markdown",
      "metadata": {
        "id": "YOiG2NJ0_xrJ"
      },
      "source": [
        "Based on the concise summary of the dataset, there are missing values within two columns, namely Item_Weight and Outlet_Size. I will be filling the missing values within the Item_Weight column by the mean of this same column but imputing the missing values within the Outlet_Size column using the Most Freuquent Imputation technique which works well with both strings or categorical features and numerical representations.  \n",
        "\n",
        "References: \n",
        "1. https://www.geeksforgeeks.org/python-pandas-dataframe-fillna-to-replace-null-values-in-dataframe/\n",
        "2. https://jamesrledoux.com/code/imputation\n",
        "3. https://stackoverflow.com/questions/32617811/imputation-of-missing-values-for-categories-in-pandas"
      ]
    },
    {
      "cell_type": "code",
      "metadata": {
        "id": "Q8s_y049-uMj"
      },
      "source": [
        "# Fill the null values within the Item_Weight column with the mean of this column\n",
        "sales_data['Item_Weight'] = sales_data['Item_Weight'].fillna(sales_data['Item_Weight'].mean())\n",
        "sales_data.head()"
      ],
      "execution_count": null,
      "outputs": []
    },
    {
      "cell_type": "code",
      "metadata": {
        "colab": {
          "base_uri": "https://localhost:8080/"
        },
        "id": "DQMCghPjgGx_",
        "outputId": "3b16d1a7-16f5-4a6a-b85b-285edb222a82"
      },
      "source": [
        "# Check and detect the presence of missing values using the isnull() function again\n",
        "sales_data.isnull().sum()"
      ],
      "execution_count": null,
      "outputs": [
        {
          "output_type": "execute_result",
          "data": {
            "text/plain": [
              "Item_Identifier                 0\n",
              "Item_Weight                     0\n",
              "Item_Fat_Content                0\n",
              "Item_Visibility                 0\n",
              "Item_Type                       0\n",
              "Item_MRP                        0\n",
              "Outlet_Identifier               0\n",
              "Outlet_Establishment_Year       0\n",
              "Outlet_Size                  2410\n",
              "Outlet_Location_Type            0\n",
              "Outlet_Type                     0\n",
              "Item_Outlet_Sales               0\n",
              "dtype: int64"
            ]
          },
          "metadata": {
            "tags": []
          },
          "execution_count": 9
        }
      ]
    },
    {
      "cell_type": "code",
      "metadata": {
        "id": "k9taRR4tDIDB",
        "colab": {
          "base_uri": "https://localhost:8080/",
          "height": 309
        },
        "outputId": "dc9e04c2-728a-4dc8-d07b-a04139eed876"
      },
      "source": [
        "imputer = SimpleImputer(missing_values=np.nan, strategy='most_frequent') # the data is converted into NumPy array\n",
        "sales_data = pd.DataFrame(imputer.fit_transform(sales_data), index=sales_data.index, columns=sales_data.columns)\n",
        "sales_data.head()\n"
      ],
      "execution_count": 5,
      "outputs": [
        {
          "output_type": "execute_result",
          "data": {
            "text/html": [
              "<div>\n",
              "<style scoped>\n",
              "    .dataframe tbody tr th:only-of-type {\n",
              "        vertical-align: middle;\n",
              "    }\n",
              "\n",
              "    .dataframe tbody tr th {\n",
              "        vertical-align: top;\n",
              "    }\n",
              "\n",
              "    .dataframe thead th {\n",
              "        text-align: right;\n",
              "    }\n",
              "</style>\n",
              "<table border=\"1\" class=\"dataframe\">\n",
              "  <thead>\n",
              "    <tr style=\"text-align: right;\">\n",
              "      <th></th>\n",
              "      <th>Item_Identifier</th>\n",
              "      <th>Item_Weight</th>\n",
              "      <th>Item_Fat_Content</th>\n",
              "      <th>Item_Visibility</th>\n",
              "      <th>Item_Type</th>\n",
              "      <th>Item_MRP</th>\n",
              "      <th>Outlet_Identifier</th>\n",
              "      <th>Outlet_Establishment_Year</th>\n",
              "      <th>Outlet_Size</th>\n",
              "      <th>Outlet_Location_Type</th>\n",
              "      <th>Outlet_Type</th>\n",
              "      <th>Item_Outlet_Sales</th>\n",
              "    </tr>\n",
              "  </thead>\n",
              "  <tbody>\n",
              "    <tr>\n",
              "      <th>0</th>\n",
              "      <td>FDA15</td>\n",
              "      <td>9.3</td>\n",
              "      <td>Low Fat</td>\n",
              "      <td>0.0160473</td>\n",
              "      <td>Dairy</td>\n",
              "      <td>249.809</td>\n",
              "      <td>OUT049</td>\n",
              "      <td>1999</td>\n",
              "      <td>Medium</td>\n",
              "      <td>Tier 1</td>\n",
              "      <td>Supermarket Type1</td>\n",
              "      <td>3735.14</td>\n",
              "    </tr>\n",
              "    <tr>\n",
              "      <th>1</th>\n",
              "      <td>DRC01</td>\n",
              "      <td>5.92</td>\n",
              "      <td>Regular</td>\n",
              "      <td>0.0192782</td>\n",
              "      <td>Soft Drinks</td>\n",
              "      <td>48.2692</td>\n",
              "      <td>OUT018</td>\n",
              "      <td>2009</td>\n",
              "      <td>Medium</td>\n",
              "      <td>Tier 3</td>\n",
              "      <td>Supermarket Type2</td>\n",
              "      <td>443.423</td>\n",
              "    </tr>\n",
              "    <tr>\n",
              "      <th>2</th>\n",
              "      <td>FDN15</td>\n",
              "      <td>17.5</td>\n",
              "      <td>Low Fat</td>\n",
              "      <td>0.0167601</td>\n",
              "      <td>Meat</td>\n",
              "      <td>141.618</td>\n",
              "      <td>OUT049</td>\n",
              "      <td>1999</td>\n",
              "      <td>Medium</td>\n",
              "      <td>Tier 1</td>\n",
              "      <td>Supermarket Type1</td>\n",
              "      <td>2097.27</td>\n",
              "    </tr>\n",
              "    <tr>\n",
              "      <th>3</th>\n",
              "      <td>FDX07</td>\n",
              "      <td>19.2</td>\n",
              "      <td>Regular</td>\n",
              "      <td>0</td>\n",
              "      <td>Fruits and Vegetables</td>\n",
              "      <td>182.095</td>\n",
              "      <td>OUT010</td>\n",
              "      <td>1998</td>\n",
              "      <td>Medium</td>\n",
              "      <td>Tier 3</td>\n",
              "      <td>Grocery Store</td>\n",
              "      <td>732.38</td>\n",
              "    </tr>\n",
              "    <tr>\n",
              "      <th>4</th>\n",
              "      <td>NCD19</td>\n",
              "      <td>8.93</td>\n",
              "      <td>Low Fat</td>\n",
              "      <td>0</td>\n",
              "      <td>Household</td>\n",
              "      <td>53.8614</td>\n",
              "      <td>OUT013</td>\n",
              "      <td>1987</td>\n",
              "      <td>High</td>\n",
              "      <td>Tier 3</td>\n",
              "      <td>Supermarket Type1</td>\n",
              "      <td>994.705</td>\n",
              "    </tr>\n",
              "  </tbody>\n",
              "</table>\n",
              "</div>"
            ],
            "text/plain": [
              "  Item_Identifier Item_Weight  ...        Outlet_Type Item_Outlet_Sales\n",
              "0           FDA15         9.3  ...  Supermarket Type1           3735.14\n",
              "1           DRC01        5.92  ...  Supermarket Type2           443.423\n",
              "2           FDN15        17.5  ...  Supermarket Type1           2097.27\n",
              "3           FDX07        19.2  ...      Grocery Store            732.38\n",
              "4           NCD19        8.93  ...  Supermarket Type1           994.705\n",
              "\n",
              "[5 rows x 12 columns]"
            ]
          },
          "metadata": {
            "tags": []
          },
          "execution_count": 5
        }
      ]
    },
    {
      "cell_type": "code",
      "metadata": {
        "colab": {
          "base_uri": "https://localhost:8080/"
        },
        "id": "Dz8GTnXrqCqD",
        "outputId": "e263385c-847d-4e92-9f9b-70debb4d333c"
      },
      "source": [
        "# Check and detect the presence of missing values using the isnull() function again\n",
        "sales_data.isnull().sum()"
      ],
      "execution_count": null,
      "outputs": [
        {
          "output_type": "execute_result",
          "data": {
            "text/plain": [
              "Item_Identifier              0\n",
              "Item_Weight                  0\n",
              "Item_Fat_Content             0\n",
              "Item_Visibility              0\n",
              "Item_Type                    0\n",
              "Item_MRP                     0\n",
              "Outlet_Identifier            0\n",
              "Outlet_Establishment_Year    0\n",
              "Outlet_Size                  0\n",
              "Outlet_Location_Type         0\n",
              "Outlet_Type                  0\n",
              "Item_Outlet_Sales            0\n",
              "dtype: int64"
            ]
          },
          "metadata": {
            "tags": []
          },
          "execution_count": 12
        }
      ]
    },
    {
      "cell_type": "code",
      "metadata": {
        "id": "tYUK8iaMZElQ"
      },
      "source": [
        "# Displaying the descriptive statistics of the dataframe \n",
        "sales_data.describe()"
      ],
      "execution_count": null,
      "outputs": []
    },
    {
      "cell_type": "code",
      "metadata": {
        "id": "On6zQFSbpEmC"
      },
      "source": [
        "# Checking the unique appearances of each column in the dataset and replace the \n",
        "# inconsistencies \n",
        "sales_data.apply(lambda x: x.unique())"
      ],
      "execution_count": null,
      "outputs": []
    },
    {
      "cell_type": "code",
      "metadata": {
        "id": "_fpzFxEJtZxs"
      },
      "source": [
        "# There are data entry inconsistencies in the Item_Fat_Content, so I need to\n",
        "# replace them. \n",
        "sales_data['Item_Fat_Content'].unique()"
      ],
      "execution_count": null,
      "outputs": []
    },
    {
      "cell_type": "code",
      "metadata": {
        "id": "D_3RMTLepMAB"
      },
      "source": [
        "sales_data['Item_Fat_Content'].replace({'LF': 'Low Fat', 'low fat': 'Low Fat', 'reg': 'Regular'}, inplace=True)"
      ],
      "execution_count": 6,
      "outputs": []
    },
    {
      "cell_type": "code",
      "metadata": {
        "id": "umFb-b98iK1N"
      },
      "source": [
        "sales_data['Item_Fat_Content'].unique()"
      ],
      "execution_count": null,
      "outputs": []
    },
    {
      "cell_type": "markdown",
      "metadata": {
        "id": "F-IeWgJH7sd2"
      },
      "source": [
        "#Data Visualization "
      ]
    },
    {
      "cell_type": "code",
      "metadata": {
        "id": "VnNXaqKfj2-5"
      },
      "source": [
        "# Changing the data types of the columns whose data types have been modified when\n",
        "# the missing values in the Outlet_Size column were imputed. \n",
        "# Reference: https://stackoverflow.com/questions/15891038/change-column-type-in-pandas\n",
        "\n",
        "sales_data = sales_data.astype({'Item_Weight': float, \n",
        "                                'Item_Visibility': float,\n",
        "                                'Item_MRP': float,\n",
        "                                'Outlet_Establishment_Year': int,\n",
        "                                'Item_Outlet_Sales': float\n",
        "                                               })"
      ],
      "execution_count": 9,
      "outputs": []
    },
    {
      "cell_type": "code",
      "metadata": {
        "colab": {
          "base_uri": "https://localhost:8080/"
        },
        "id": "EHlQ11Tol4Eb",
        "outputId": "46d4911e-8e39-45b9-adf8-0a6385427cca"
      },
      "source": [
        "# Checking the data types \n",
        "sales_data.dtypes "
      ],
      "execution_count": 10,
      "outputs": [
        {
          "output_type": "execute_result",
          "data": {
            "text/plain": [
              "Item_Identifier               object\n",
              "Item_Weight                  float64\n",
              "Item_Fat_Content              object\n",
              "Item_Visibility              float64\n",
              "Item_Type                     object\n",
              "Item_MRP                     float64\n",
              "Outlet_Identifier             object\n",
              "Outlet_Establishment_Year      int64\n",
              "Outlet_Size                   object\n",
              "Outlet_Location_Type          object\n",
              "Outlet_Type                   object\n",
              "Item_Outlet_Sales            float64\n",
              "dtype: object"
            ]
          },
          "metadata": {
            "tags": []
          },
          "execution_count": 10
        }
      ]
    },
    {
      "cell_type": "code",
      "metadata": {
        "colab": {
          "base_uri": "https://localhost:8080/"
        },
        "id": "LpL8UOqre2x4",
        "outputId": "a21330bd-f660-4272-db36-307da4855bdf"
      },
      "source": [
        "# the average item sales by the location types of the store \n",
        "sales_data.groupby('Outlet_Location_Type')['Item_Outlet_Sales'].mean()"
      ],
      "execution_count": 11,
      "outputs": [
        {
          "output_type": "execute_result",
          "data": {
            "text/plain": [
              "Outlet_Location_Type\n",
              "Tier 1    1876.909159\n",
              "Tier 2    2323.990559\n",
              "Tier 3    2279.627651\n",
              "Name: Item_Outlet_Sales, dtype: float64"
            ]
          },
          "metadata": {
            "tags": []
          },
          "execution_count": 11
        }
      ]
    },
    {
      "cell_type": "code",
      "metadata": {
        "colab": {
          "base_uri": "https://localhost:8080/"
        },
        "id": "8z0pywoMn-Fr",
        "outputId": "eb28f494-94d9-4359-e284-ac59edb82bd4"
      },
      "source": [
        "# the average item sales by the types of store \n",
        "sales_data.groupby('Outlet_Type')['Item_Outlet_Sales'].mean()"
      ],
      "execution_count": 12,
      "outputs": [
        {
          "output_type": "execute_result",
          "data": {
            "text/plain": [
              "Outlet_Type\n",
              "Grocery Store         339.828500\n",
              "Supermarket Type1    2316.181148\n",
              "Supermarket Type2    1995.498739\n",
              "Supermarket Type3    3694.038558\n",
              "Name: Item_Outlet_Sales, dtype: float64"
            ]
          },
          "metadata": {
            "tags": []
          },
          "execution_count": 12
        }
      ]
    },
    {
      "cell_type": "code",
      "metadata": {
        "colab": {
          "base_uri": "https://localhost:8080/",
          "height": 407
        },
        "id": "7708tUPpo0gF",
        "outputId": "77a3036c-be08-4b52-efa9-475c72e7a9f4"
      },
      "source": [
        "x0 = sales_data.groupby('Outlet_Location_Type')['Item_Outlet_Sales'].mean().index\n",
        "y0 = sales_data.groupby('Outlet_Location_Type')['Item_Outlet_Sales'].mean().values\n",
        "\n",
        "x1 = sales_data.groupby('Outlet_Type')['Item_Outlet_Sales'].mean().index\n",
        "y1 = sales_data.groupby('Outlet_Type')['Item_Outlet_Sales'].mean().values\n",
        "\n",
        "plt.style.use('seaborn')\n",
        "\n",
        "font = {'family': 'serif', \n",
        "        'fontstyle': 'italic',\n",
        "        'fontsize': 14,\n",
        "        'fontweight': 'bold',\n",
        "        'color': 'DarkBlue'\n",
        "        }\n",
        "\n",
        "fig, axs = plt.subplots(nrows=1, ncols=2, figsize=(18, 6))\n",
        "axs[0].bar(x0, y0, width=0.5, color='darkred')\n",
        "axs[0].set_title('Average Sales by Outlet Location Type', fontdict=font)\n",
        "axs[0].set_ylim(0, 2500)\n",
        "#Reference: https://matplotlib.org/stable/api/_as_gen/matplotlib.pyplot.tick_params.html\n",
        "axs[0].tick_params(axis='both', labelsize=10)  \n",
        "axs[0].set_xlabel('Outlet Location Type', fontsize=12, fontweight='bold')\n",
        "axs[0].set_ylabel('Average Sales', fontsize=12, fontweight='bold')\n",
        "\n",
        "axs[1].bar(x1, y1, width=0.5, color='darkgreen')\n",
        "axs[1].set_title('Average Sales by Outlet Type', fontdict=font)\n",
        "axs[1].set_ylim(0, 4000)\n",
        "axs[1].tick_params(axis='both', labelsize=10)\n",
        "axs[1].set_xlabel('Outlet Type', fontsize=12, fontweight='bold')\n",
        "axs[1].set_ylabel('Average Sales', fontsize=12, fontweight='bold')\n",
        "\n",
        "plt.show()"
      ],
      "execution_count": 13,
      "outputs": [
        {
          "output_type": "display_data",
          "data": {
            "image/png": "[encoded data removed]",
            "text/plain": [
              "<Figure size 1296x432 with 2 Axes>"
            ]
          },
          "metadata": {
            "tags": []
          }
        }
      ]
    },
    {
      "cell_type": "code",
      "metadata": {
        "colab": {
          "base_uri": "https://localhost:8080/",
          "height": 531
        },
        "id": "nhQqEzMOWgmW",
        "outputId": "e0a8d183-986b-4962-ca8f-3cb6e70469fe"
      },
      "source": [
        "# Visualize the distribution of the item sales \n",
        "sales_data['Item_Outlet_Sales'].hist(bins=20, color='orange', edgecolor='green', figsize=(12, 8))\n",
        "plt.xticks(rotation=45)\n",
        "plt.ticklabel_format(useOffset=False, style='plain')\n",
        "\n",
        "font = {'family': 'serif', \n",
        "        'fontstyle': 'italic',\n",
        "        'fontsize': 14,\n",
        "        'fontweight': 'bold',\n",
        "        'color': 'DarkBlue'\n",
        "        }\n",
        "\n",
        "plt.xlabel('Item Sales($)', fontweight='bold')\n",
        "plt.ylabel('Frequency', fontweight='bold')\n",
        "plt.title('Distribution of Outlet Item Sales', fontdict=font)\n",
        "plt.show()"
      ],
      "execution_count": 14,
      "outputs": [
        {
          "output_type": "display_data",
          "data": {
            "image/png": "[encoded data removed]",
            "text/plain": [
              "<Figure size 864x576 with 1 Axes>"
            ]
          },
          "metadata": {
            "tags": []
          }
        }
      ]
    },
    {
      "cell_type": "code",
      "metadata": {
        "colab": {
          "base_uri": "https://localhost:8080/",
          "height": 378
        },
        "id": "w60xpRxyC_Bo",
        "outputId": "ef9dbb3e-59ee-42eb-f592-4761c07c08de"
      },
      "source": [
        "# Number of different item identifiers by the store size\n",
        "# References: 1. https://pythonbasics.org/matplotlib-bar-chart/\n",
        "#             2. https://www.geeksforgeeks.org/plotting-multiple-bar-charts-using-matplotlib-in-python/\n",
        "#             3. https://www.geeksforgeeks.org/create-a-grouped-bar-plot-in-matplotlib/\n",
        "\n",
        "sales_data.groupby('Outlet_Size')['Item_Identifier'].count()\n",
        "x = sales_data.groupby('Outlet_Size')['Item_Identifier'].count().index\n",
        "y = sales_data.groupby('Outlet_Size')['Item_Identifier'].count().values\n",
        "font = {'family': 'serif', \n",
        "        'fontstyle': 'italic',\n",
        "        'fontsize': 14,\n",
        "        'fontweight': 'bold',\n",
        "        'color': 'DarkBlue'\n",
        "        }\n",
        "plt.bar(x, y, color='darksalmon', width=0.5)\n",
        "plt.title('Different Item Identifiers by Outlet Size', fontdict=font)\n",
        "plt.xlabel('Outlet Size', fontweight='bold')\n",
        "plt.ylabel('Number of Item Identifiers', fontweight='bold')\n",
        "plt.show()\n"
      ],
      "execution_count": null,
      "outputs": [
        {
          "output_type": "display_data",
          "data": {
            "image/png": "[encoded data removed]",
            "text/plain": [
              "<Figure size 576x396 with 1 Axes>"
            ]
          },
          "metadata": {
            "tags": []
          }
        }
      ]
    },
    {
      "cell_type": "code",
      "metadata": {
        "id": "YkTUZ324uosK"
      },
      "source": [
        "# Check different types items available in the whole store \n",
        "# Help from: https://pandas.pydata.org/pandas-docs/stable/reference/api/pandas.DataFrame.value_counts.html\n",
        "\n",
        "sales_data.value_counts(subset='Item_Identifier')"
      ],
      "execution_count": null,
      "outputs": []
    },
    {
      "cell_type": "code",
      "metadata": {
        "id": "V_RwYa4huxq6"
      },
      "source": [
        "#Method 2 - the relative frequency of each unique item\n",
        "sales_data['Item_Identifier'].value_counts()\n",
        "sales_data['Item_Identifier'].value_counts(normalize=True)"
      ],
      "execution_count": null,
      "outputs": []
    },
    {
      "cell_type": "code",
      "metadata": {
        "colab": {
          "base_uri": "https://localhost:8080/",
          "height": 405
        },
        "id": "5MfytuyVu3Fc",
        "outputId": "64dd539b-a024-4d00-abef-85a924a85ec4"
      },
      "source": [
        "sales_data['Item_Identifier'].value_counts().hist(color='darkmagenta', edgecolor='g', figsize=(12, 6))\n",
        "font = {'family': 'serif', \n",
        "        'fontstyle': 'italic',\n",
        "        'fontsize': 14,\n",
        "        'fontweight': 'bold',\n",
        "        'color': 'DarkBlue'\n",
        "        }\n",
        "plt.title('Relative Distribution of Outlet Item Identifiers', fontdict=font)\n",
        "plt.xlabel('Relative Item Identifier', fontweight='bold')\n",
        "plt.ylabel('Frequency', fontweight='bold')\n",
        "plt.show()"
      ],
      "execution_count": 17,
      "outputs": [
        {
          "output_type": "display_data",
          "data": {
            "image/png": "[encoded data removed]",
            "text/plain": [
              "<Figure size 864x432 with 1 Axes>"
            ]
          },
          "metadata": {
            "tags": []
          }
        }
      ]
    },
    {
      "cell_type": "code",
      "metadata": {
        "colab": {
          "base_uri": "https://localhost:8080/"
        },
        "id": "GUs-5E3t32i_",
        "outputId": "23412193-c0ee-429c-9975-8e08b451ef5e"
      },
      "source": [
        "# Different varieties of fats in food items by the Outlet Type\n",
        "# Reference: https://www.pythoncharts.com/matplotlib/grouped-bar-charts-matplotlib/\n",
        "sales_data.groupby('Outlet_Size')['Item_Fat_Content'].value_counts()\n",
        "\n"
      ],
      "execution_count": null,
      "outputs": [
        {
          "output_type": "execute_result",
          "data": {
            "text/plain": [
              "Outlet_Size  Item_Fat_Content\n",
              "High         Low Fat              606\n",
              "             Regular              326\n",
              "Medium       Low Fat             3361\n",
              "             Regular             1842\n",
              "Small        Low Fat             1550\n",
              "             Regular              838\n",
              "Name: Item_Fat_Content, dtype: int64"
            ]
          },
          "metadata": {
            "tags": []
          },
          "execution_count": 14
        }
      ]
    },
    {
      "cell_type": "code",
      "metadata": {
        "colab": {
          "base_uri": "https://localhost:8080/",
          "height": 436
        },
        "id": "oJc1cGoz5Ba8",
        "outputId": "0e314633-1635-43be-c44f-b26928e7c6b5"
      },
      "source": [
        "sales_data.groupby('Outlet_Size')['Item_Fat_Content'].value_counts().plot.bar()\n",
        "plt.show()\n"
      ],
      "execution_count": 25,
      "outputs": [
        {
          "output_type": "display_data",
          "data": {
            "image/png": "[encoded data removed]",
            "text/plain": [
              "<Figure size 576x396 with 1 Axes>"
            ]
          },
          "metadata": {
            "tags": []
          }
        }
      ]
    },
    {
      "cell_type": "code",
      "metadata": {
        "id": "u-DyRq9uiraF"
      },
      "source": [
        "# Plotting the correlation between features using heatmaps \n",
        "correlation = sales_data.corr()"
      ],
      "execution_count": 18,
      "outputs": []
    },
    {
      "cell_type": "code",
      "metadata": {
        "colab": {
          "base_uri": "https://localhost:8080/",
          "height": 462
        },
        "id": "sVqjSNfwi55U",
        "outputId": "0b2e47b0-1375-4f5b-b24e-b5a843f52867"
      },
      "source": [
        "sns.heatmap(correlation, cmap='Oranges', annot=True)\n",
        "plt.show()"
      ],
      "execution_count": 24,
      "outputs": [
        {
          "output_type": "display_data",
          "data": {
            "image/png": "[encoded data removed]",
            "text/plain": [
              "<Figure size 576x396 with 2 Axes>"
            ]
          },
          "metadata": {
            "tags": []
          }
        }
      ]
    },
    {
      "cell_type": "markdown",
      "metadata": {
        "id": "cGfJpHFljjsW"
      },
      "source": [
        "From the above heatmap, there is a moderate positive relationship between the Item MRP and Item Outlet Sales as the correlation coefficient is equal to 0.57."
      ]
    },
    {
      "cell_type": "markdown",
      "metadata": {
        "id": "JmMdJsSemcNt"
      },
      "source": [
        "#Boxplot\n",
        "Graph boxplots to show the distribution of the continuous Item Outlet Sales feature for the different types of Outlet Location."
      ]
    },
    {
      "cell_type": "code",
      "metadata": {
        "id": "b97KZ7yQmqLt"
      },
      "source": [
        "tier1 = sales_data['Outlet_Location_Type'] == 'Tier 1'\n",
        "sales_data[tier1]"
      ],
      "execution_count": null,
      "outputs": []
    },
    {
      "cell_type": "code",
      "metadata": {
        "id": "vy8E-g7UnHHF"
      },
      "source": [
        "tier2 = sales_data['Outlet_Location_Type'] == 'Tier 2'\n",
        "sales_data[tier2]"
      ],
      "execution_count": null,
      "outputs": []
    },
    {
      "cell_type": "code",
      "metadata": {
        "id": "lg-GfukhnN5F"
      },
      "source": [
        "tier3 = sales_data['Outlet_Location_Type'] == 'Tier 3'\n",
        "sales_data[tier3]"
      ],
      "execution_count": null,
      "outputs": []
    },
    {
      "cell_type": "code",
      "metadata": {
        "colab": {
          "base_uri": "https://localhost:8080/",
          "height": 540
        },
        "id": "sjH5a7U1nXFV",
        "outputId": "82e9bd4e-4ae1-4075-ed17-6bfe9f124fe5"
      },
      "source": [
        "x1 = sales_data[tier1]['Item_Outlet_Sales'].values\n",
        "x2 = sales_data[tier2]['Item_Outlet_Sales'].values\n",
        "x3 = sales_data[tier3]['Item_Outlet_Sales'].values\n",
        "\n",
        "fig, ax = plt.subplots(nrows=1, ncols=1, figsize=(16, 8))\n",
        "boxplots = ax.boxplot([x1, x2, x3], \n",
        "           labels=['Tier 1', 'Tier 2', 'Tier 3'], \n",
        "           notch =True,\n",
        "           widths = 0.7,\n",
        "           patch_artist =True,\n",
        "           medianprops = dict(linestyle ='-', linewidth=2, color='yellow'),\n",
        "           boxprops = dict(linestyle ='--', linewidth=2, color='black', facecolor='blue', alpha=0.4)\n",
        "           )\n",
        "\n",
        "boxplot1 = boxplots['boxes'][0]\n",
        "boxplot2 = boxplots['boxes'][1]\n",
        "boxplot3 = boxplots['boxes'][2]\n",
        "boxplot1.set_facecolor('orange')\n",
        "boxplot2.set_facecolor('red')\n",
        "boxplot3.set_facecolor('green')\n",
        "\n",
        "\n",
        "ax.set_ylabel('Item Outlet Sales')\n",
        "plt.xticks(fontsize=12)\n",
        "plt.yticks(fontsize=12)\n",
        "plt.show()"
      ],
      "execution_count": 50,
      "outputs": [
        {
          "output_type": "stream",
          "text": [
            "/usr/local/lib/python3.7/dist-packages/numpy/core/_asarray.py:83: VisibleDeprecationWarning: Creating an ndarray from ragged nested sequences (which is a list-or-tuple of lists-or-tuples-or ndarrays with different lengths or shapes) is deprecated. If you meant to do this, you must specify 'dtype=object' when creating the ndarray\n",
            "  return array(a, dtype, copy=False, order=order)\n"
          ],
          "name": "stderr"
        },
        {
          "output_type": "display_data",
          "data": {
            "image/png": "[encoded data removed]",
            "text/plain": [
              "<Figure size 1152x576 with 1 Axes>"
            ]
          },
          "metadata": {
            "tags": []
          }
        }
      ]
    }
  ]
}